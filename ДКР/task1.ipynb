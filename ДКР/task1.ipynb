{
 "cells": [
  {
   "cell_type": "code",
   "id": "initial_id",
   "metadata": {
    "collapsed": true,
    "ExecuteTime": {
     "end_time": "2025-05-22T18:57:57.159183Z",
     "start_time": "2025-05-22T18:57:57.156180Z"
    }
   },
   "source": "import numpy as np",
   "outputs": [],
   "execution_count": 1
  },
  {
   "metadata": {
    "ExecuteTime": {
     "end_time": "2025-05-22T18:57:57.190187Z",
     "start_time": "2025-05-22T18:57:57.184186Z"
    }
   },
   "cell_type": "code",
   "source": [
    "def find_M(X, Y):\n",
    "    M = 0\n",
    "    for i in range(len(X)):\n",
    "        M += (X[i] * Y[i])\n",
    "    return M"
   ],
   "id": "9be275dc92c52ee0",
   "outputs": [],
   "execution_count": 2
  },
  {
   "metadata": {
    "ExecuteTime": {
     "end_time": "2025-05-22T18:57:57.218188Z",
     "start_time": "2025-05-22T18:57:57.212190Z"
    }
   },
   "cell_type": "code",
   "source": [
    "def find_D(X, Y, M):\n",
    "    D = 0\n",
    "    for i in range(len(X)):\n",
    "        D += (X[i] - M)**2 * Y[i]\n",
    "    return D"
   ],
   "id": "65c947c18cd37015",
   "outputs": [],
   "execution_count": 3
  },
  {
   "metadata": {
    "ExecuteTime": {
     "end_time": "2025-05-22T18:57:57.787187Z",
     "start_time": "2025-05-22T18:57:57.782180Z"
    }
   },
   "cell_type": "code",
   "source": [
    "def find_sigma(D):\n",
    "    sigma = np.sqrt(D)\n",
    "    return sigma"
   ],
   "id": "f1a4210e92851912",
   "outputs": [],
   "execution_count": 4
  },
  {
   "metadata": {
    "ExecuteTime": {
     "end_time": "2025-05-22T19:12:58.326260Z",
     "start_time": "2025-05-22T19:12:58.321260Z"
    }
   },
   "cell_type": "code",
   "source": [
    "X = np.array([5, 5, 8])\n",
    "Y = np.array([0.49, 0.25, 0.26])\n",
    "\n",
    "M = find_M(X, Y)\n",
    "D = find_D(X, Y, M)\n",
    "sigma = find_sigma(D)\n",
    "\n",
    "print(M)\n",
    "print(D)\n",
    "print(sigma)"
   ],
   "id": "76024030f39f777f",
   "outputs": [
    {
     "name": "stdout",
     "output_type": "stream",
     "text": [
      "5.78\n",
      "1.7316000000000003\n",
      "1.3159027319676786\n"
     ]
    }
   ],
   "execution_count": 14
  },
  {
   "metadata": {
    "ExecuteTime": {
     "end_time": "2025-05-22T19:12:58.354261Z",
     "start_time": "2025-05-22T19:12:58.349258Z"
    }
   },
   "cell_type": "code",
   "source": [
    "X = np.array([4, 6, 10])\n",
    "Y = np.array([0.22, 0.33, 0.45])\n",
    "\n",
    "M = find_M(X, Y)\n",
    "D = find_D(X, Y, M)\n",
    "sigma = find_sigma(D)\n",
    "\n",
    "print(M)\n",
    "print(D)\n",
    "print(sigma)"
   ],
   "id": "273ebe278c463958",
   "outputs": [
    {
     "name": "stdout",
     "output_type": "stream",
     "text": [
      "7.359999999999999\n",
      "6.2304\n",
      "2.496076921891631\n"
     ]
    }
   ],
   "execution_count": 15
  },
  {
   "metadata": {
    "ExecuteTime": {
     "end_time": "2025-05-22T19:12:58.409257Z",
     "start_time": "2025-05-22T19:12:58.401262Z"
    }
   },
   "cell_type": "code",
   "source": [
    "X = np.array([5, 10, 20])\n",
    "Y = np.array([0.31, 0.42, 0.27])\n",
    "\n",
    "M = find_M(X, Y)\n",
    "D = find_D(X, Y, M)\n",
    "sigma = find_sigma(D)\n",
    "\n",
    "print(M)\n",
    "print(D)\n",
    "print(sigma)"
   ],
   "id": "fc1a60a88f3da36e",
   "outputs": [
    {
     "name": "stdout",
     "output_type": "stream",
     "text": [
      "11.15\n",
      "33.4275\n",
      "5.781652013049557\n"
     ]
    }
   ],
   "execution_count": 16
  }
 ],
 "metadata": {
  "kernelspec": {
   "display_name": "Python 3",
   "language": "python",
   "name": "python3"
  },
  "language_info": {
   "codemirror_mode": {
    "name": "ipython",
    "version": 2
   },
   "file_extension": ".py",
   "mimetype": "text/x-python",
   "name": "python",
   "nbconvert_exporter": "python",
   "pygments_lexer": "ipython2",
   "version": "2.7.6"
  }
 },
 "nbformat": 4,
 "nbformat_minor": 5
}
