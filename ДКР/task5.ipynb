{
 "cells": [
  {
   "cell_type": "code",
   "id": "initial_id",
   "metadata": {
    "collapsed": true,
    "ExecuteTime": {
     "end_time": "2025-05-24T18:55:17.077759Z",
     "start_time": "2025-05-24T18:55:15.126752Z"
    }
   },
   "source": "import numpy as np",
   "outputs": [],
   "execution_count": 1
  },
  {
   "metadata": {
    "ExecuteTime": {
     "end_time": "2025-05-24T18:56:14.560264Z",
     "start_time": "2025-05-24T18:56:14.554266Z"
    }
   },
   "cell_type": "code",
   "source": [
    "t = np.array([[1, 2, 1/3, 3, 2],\n",
    "              [1/2, 1, 1/2, 4, 2],\n",
    "              [3, 2, 1, 5, 4],\n",
    "              [1/3, 1/4, 1/5, 1, 2],\n",
    "              [1/2, 1/2, 1/4, 1/2, 1]])"
   ],
   "id": "56400ef9fa3049ce",
   "outputs": [],
   "execution_count": 2
  },
  {
   "metadata": {
    "ExecuteTime": {
     "end_time": "2025-05-24T18:56:23.137802Z",
     "start_time": "2025-05-24T18:56:23.119797Z"
    }
   },
   "cell_type": "code",
   "source": "t.sum(axis=1)",
   "id": "3c88a45d0c90b6f7",
   "outputs": [
    {
     "data": {
      "text/plain": [
       "array([ 8.33333333,  8.        , 15.        ,  3.78333333,  2.75      ])"
      ]
     },
     "execution_count": 3,
     "metadata": {},
     "output_type": "execute_result"
    }
   ],
   "execution_count": 3
  }
 ],
 "metadata": {
  "kernelspec": {
   "display_name": "Python 3",
   "language": "python",
   "name": "python3"
  },
  "language_info": {
   "codemirror_mode": {
    "name": "ipython",
    "version": 2
   },
   "file_extension": ".py",
   "mimetype": "text/x-python",
   "name": "python",
   "nbconvert_exporter": "python",
   "pygments_lexer": "ipython2",
   "version": "2.7.6"
  }
 },
 "nbformat": 4,
 "nbformat_minor": 5
}
