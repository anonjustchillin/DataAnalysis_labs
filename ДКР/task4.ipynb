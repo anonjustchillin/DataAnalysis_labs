{
 "cells": [
  {
   "cell_type": "code",
   "id": "initial_id",
   "metadata": {
    "collapsed": true,
    "ExecuteTime": {
     "end_time": "2025-05-22T20:52:57.942539Z",
     "start_time": "2025-05-22T20:52:57.775513Z"
    }
   },
   "source": "import numpy as np",
   "outputs": [],
   "execution_count": 1
  },
  {
   "metadata": {
    "ExecuteTime": {
     "end_time": "2025-05-22T21:04:55.086269Z",
     "start_time": "2025-05-22T21:04:55.080268Z"
    }
   },
   "cell_type": "code",
   "source": [
    "t = np.array([[45, 90, 25, 110, 120],\n",
    "              [20, 76, 60, 80, 100]])"
   ],
   "id": "6b2a780705ca0979",
   "outputs": [],
   "execution_count": 7
  },
  {
   "metadata": {
    "ExecuteTime": {
     "end_time": "2025-05-22T21:05:13.106838Z",
     "start_time": "2025-05-22T21:05:13.100838Z"
    }
   },
   "cell_type": "code",
   "source": [
    "t_temp = []\n",
    "for i in range(t.shape[1]):\n",
    "    t_temp.append(int(t[0][i]+t[1][i]))\n",
    "t_temp"
   ],
   "id": "361a78b7da28bdef",
   "outputs": [
    {
     "data": {
      "text/plain": [
       "[65, 166, 85, 190, 220]"
      ]
     },
     "execution_count": 9,
     "metadata": {},
     "output_type": "execute_result"
    }
   ],
   "execution_count": 9
  },
  {
   "metadata": {
    "ExecuteTime": {
     "end_time": "2025-05-22T21:06:23.619356Z",
     "start_time": "2025-05-22T21:06:23.613380Z"
    }
   },
   "cell_type": "code",
   "source": [
    "new_t = np.array([[45, 25],\n",
    "                  [20, 60]])"
   ],
   "id": "76b2444516bdd78",
   "outputs": [],
   "execution_count": 10
  },
  {
   "metadata": {
    "ExecuteTime": {
     "end_time": "2025-05-22T21:09:26.767533Z",
     "start_time": "2025-05-22T21:09:26.761539Z"
    }
   },
   "cell_type": "code",
   "source": [
    "min_row = np.array([[min(new_t[0])],\n",
    "                    [min(new_t[1])],])\n",
    "min_row"
   ],
   "id": "ad26b0331af096b3",
   "outputs": [
    {
     "data": {
      "text/plain": [
       "array([[25],\n",
       "       [20]])"
      ]
     },
     "execution_count": 12,
     "metadata": {},
     "output_type": "execute_result"
    }
   ],
   "execution_count": 12
  },
  {
   "metadata": {
    "ExecuteTime": {
     "end_time": "2025-05-22T21:10:22.603047Z",
     "start_time": "2025-05-22T21:10:22.596018Z"
    }
   },
   "cell_type": "code",
   "source": [
    "max_col = np.array([[max(new_t[0][0], new_t[1][0])],\n",
    "                    [max(new_t[0][1], new_t[1][1])]])\n",
    "max_col"
   ],
   "id": "b21c72c4c32636a2",
   "outputs": [
    {
     "data": {
      "text/plain": [
       "array([[45],\n",
       "       [60]])"
      ]
     },
     "execution_count": 13,
     "metadata": {},
     "output_type": "execute_result"
    }
   ],
   "execution_count": 13
  },
  {
   "metadata": {
    "ExecuteTime": {
     "end_time": "2025-05-22T21:11:04.511786Z",
     "start_time": "2025-05-22T21:11:04.506825Z"
    }
   },
   "cell_type": "code",
   "source": "print(max(min_row), min(max_col))",
   "id": "3e6f1050bb8242e",
   "outputs": [
    {
     "name": "stdout",
     "output_type": "stream",
     "text": [
      "[25] [45]\n"
     ]
    }
   ],
   "execution_count": 14
  }
 ],
 "metadata": {
  "kernelspec": {
   "display_name": "Python 3",
   "language": "python",
   "name": "python3"
  },
  "language_info": {
   "codemirror_mode": {
    "name": "ipython",
    "version": 2
   },
   "file_extension": ".py",
   "mimetype": "text/x-python",
   "name": "python",
   "nbconvert_exporter": "python",
   "pygments_lexer": "ipython2",
   "version": "2.7.6"
  }
 },
 "nbformat": 4,
 "nbformat_minor": 5
}
