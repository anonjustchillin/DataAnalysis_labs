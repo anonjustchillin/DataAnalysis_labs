{
 "cells": [
  {
   "cell_type": "code",
   "id": "initial_id",
   "metadata": {
    "collapsed": true,
    "ExecuteTime": {
     "end_time": "2025-05-22T19:32:15.573880Z",
     "start_time": "2025-05-22T19:32:15.567881Z"
    }
   },
   "source": [
    "import numpy as np\n",
    "from matplotlib.table import table"
   ],
   "outputs": [],
   "execution_count": 1
  },
  {
   "metadata": {
    "ExecuteTime": {
     "end_time": "2025-05-22T19:37:38.573413Z",
     "start_time": "2025-05-22T19:37:38.567415Z"
    }
   },
   "cell_type": "code",
   "source": [
    "t = np.array([[3, 8, 3, 9, 25],\n",
    "              [2, 4, 15, 2, 6],\n",
    "              [5, 3, 1, 8, 5],\n",
    "              [14, 1, 3, 20, 9],\n",
    "              [1, 3, 5, 2, 1]])\n",
    "q = 0.2"
   ],
   "id": "f9150e8942e22cbf",
   "outputs": [],
   "execution_count": 3
  },
  {
   "metadata": {
    "ExecuteTime": {
     "end_time": "2025-05-22T19:42:28.402529Z",
     "start_time": "2025-05-22T19:42:28.394531Z"
    }
   },
   "cell_type": "code",
   "source": [
    "k_q = t*q\n",
    "k_q"
   ],
   "id": "b58c8304681eb248",
   "outputs": [
    {
     "data": {
      "text/plain": [
       "array([[0.6, 1.6, 0.6, 1.8, 5. ],\n",
       "       [0.4, 0.8, 3. , 0.4, 1.2],\n",
       "       [1. , 0.6, 0.2, 1.6, 1. ],\n",
       "       [2.8, 0.2, 0.6, 4. , 1.8],\n",
       "       [0.2, 0.6, 1. , 0.4, 0.2]])"
      ]
     },
     "execution_count": 4,
     "metadata": {},
     "output_type": "execute_result"
    }
   ],
   "execution_count": 4
  },
  {
   "metadata": {
    "ExecuteTime": {
     "end_time": "2025-05-22T19:44:27.950735Z",
     "start_time": "2025-05-22T19:44:27.943736Z"
    }
   },
   "cell_type": "code",
   "source": [
    "min_val = np.array([[np.min(k_q[0])],\n",
    "                   [np.min(k_q[1])],\n",
    "                   [np.min(k_q[2])],\n",
    "                   [np.min(k_q[3])],\n",
    "                   [np.min(k_q[4])]])\n",
    "min_val"
   ],
   "id": "1a07ac6e8d152863",
   "outputs": [
    {
     "data": {
      "text/plain": [
       "array([[0.6],\n",
       "       [0.4],\n",
       "       [0.2],\n",
       "       [0.2],\n",
       "       [0.2]])"
      ]
     },
     "execution_count": 7,
     "metadata": {},
     "output_type": "execute_result"
    }
   ],
   "execution_count": 7
  },
  {
   "metadata": {
    "ExecuteTime": {
     "end_time": "2025-05-22T19:47:26.038227Z",
     "start_time": "2025-05-22T19:47:26.033228Z"
    }
   },
   "cell_type": "code",
   "source": [
    "Gr = np.max(min_val)\n",
    "print(Gr)"
   ],
   "id": "7edda3f7a6712664",
   "outputs": [
    {
     "name": "stdout",
     "output_type": "stream",
     "text": [
      "0.6000000000000001\n"
     ]
    }
   ],
   "execution_count": 11
  }
 ],
 "metadata": {
  "kernelspec": {
   "display_name": "Python 3",
   "language": "python",
   "name": "python3"
  },
  "language_info": {
   "codemirror_mode": {
    "name": "ipython",
    "version": 2
   },
   "file_extension": ".py",
   "mimetype": "text/x-python",
   "name": "python",
   "nbconvert_exporter": "python",
   "pygments_lexer": "ipython2",
   "version": "2.7.6"
  }
 },
 "nbformat": 4,
 "nbformat_minor": 5
}
